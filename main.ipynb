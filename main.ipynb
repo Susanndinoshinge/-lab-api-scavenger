{
 "cells": [
  {
   "cell_type": "markdown",
   "id": "2eaf369f",
   "metadata": {},
   "source": [
    "### Your lab resolution :"
   ]
  },
  {
   "cell_type": "code",
   "execution_count": 8,
   "id": "6c94489a",
   "metadata": {},
   "outputs": [],
   "source": [
    "#Libraries\n",
    "import requests\n",
    "import pandas as pd\n",
    "from datetime import datetime, timedelta\n",
    "from dotenv import load_dotenv\n",
    "import os\n"
   ]
  },
  {
   "cell_type": "code",
   "execution_count": 22,
   "metadata": {},
   "outputs": [
    {
     "name": "stdout",
     "output_type": "stream",
     "text": [
      "Languages: ['Jupyter Notebook']\n",
      "Number of commits in the last 3 weeks: 0\n"
     ]
    }
   ],
   "source": [
    "load_dotenv()\n",
    "\n",
    "class GitHubApiClient:\n",
    "    def __init__(self):\n",
    "        self.access_token = os.environ['Github_access_token']\n",
    "        self.headers = {'Authorization': f'token {self.access_token}'}\n",
    "\n",
    "    def get_fork_languages(self, repo_owner, repo_name):\n",
    "        url = f'https://api.github.com/repos/{repo_owner}/{repo_name}/forks'\n",
    "        response = requests.get(url, headers=self.headers)\n",
    "        if response.status_code == 200:\n",
    "            forks = response.json()\n",
    "            languages = set()\n",
    "            for fork in forks:\n",
    "                language = fork.get('language')\n",
    "                if language:\n",
    "                    languages.add(language)\n",
    "            return list(languages)\n",
    "        else:\n",
    "            print(f'Error: {response.status_code}')\n",
    "            print(response.text)\n",
    "            return None\n",
    "\n",
    "    def get_commits_count(self, repo_owner, repo_name):\n",
    "        three_weeks_ago = (datetime.now() - timedelta(weeks=3)).isoformat()\n",
    "        url = f'https://api.github.com/repos/{repo_owner}/{repo_name}/commits'\n",
    "        params = {'since': three_weeks_ago}\n",
    "        response = requests.get(url, headers=self.headers, params=params)\n",
    "        if response.status_code == 200:\n",
    "            commits = response.json()\n",
    "            commits_count = len(commits)\n",
    "            return commits_count\n",
    "        else:\n",
    "            print(f'Error: {response.status_code}')\n",
    "            print(response.text)\n",
    "            return None\n",
    "\n",
    "repo_owner_challenge2 = 'ta-data-pt-rmt'\n",
    "repo_name_challenge2 = 'lab-mysql-first-queries'\n",
    "\n",
    "\n",
    "github_client = GitHubApiClient()\n",
    "\n",
    "# list of programming languages from forks\n",
    "fork_languages = github_client.get_fork_languages(repo_owner_challenge2, repo_name_challenge2)\n",
    "print(f'Languages: {fork_languages}')\n",
    "\n",
    "# number of commits made in the past 3 weeks\n",
    "commits_count = github_client.get_commits_count(repo_owner_challenge2, repo_name_challenge2)\n",
    "print(f'Number of commits in the last 3 weeks: {commits_count}')"
   ]
  },
  {
   "cell_type": "code",
   "execution_count": null,
   "metadata": {},
   "outputs": [],
   "source": [
    "\"\"\"\n",
    "Number of commits is showing 0.\n",
    "Reason why the GitHub API is not showing commits in the last 3 weeks. I 've been uploading files directly to the GitHub repository through the web interface\n",
    "\"\"\""
   ]
  }
 ],
 "metadata": {
  "kernelspec": {
   "display_name": "Python 3",
   "language": "python",
   "name": "python3"
  },
  "language_info": {
   "codemirror_mode": {
    "name": "ipython",
    "version": 3
   },
   "file_extension": ".py",
   "mimetype": "text/x-python",
   "name": "python",
   "nbconvert_exporter": "python",
   "pygments_lexer": "ipython3",
   "version": "3.9.18"
  }
 },
 "nbformat": 4,
 "nbformat_minor": 5
}
